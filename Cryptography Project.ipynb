{
 "cells": [
  {
   "cell_type": "code",
   "execution_count": 1,
   "metadata": {
    "collapsed": true
   },
   "outputs": [],
   "source": [
    "%matplotlib inline\n",
    "import numpy as np\n",
    "import pprint as pp\n",
    "import random\n",
    "from datetime import datetime\n",
    "from itertools import combinations\n",
    "import string\n",
    "import pandas\n",
    "from collections import Counter"
   ]
  },
  {
   "cell_type": "markdown",
   "metadata": {},
   "source": [
    "Reading in the secret message"
   ]
  },
  {
   "cell_type": "code",
   "execution_count": 2,
   "metadata": {
    "collapsed": false
   },
   "outputs": [
    {
     "name": "stdout",
     "output_type": "stream",
     "text": [
      "'BIU V DICT ZMEF VBZFU MZ NVJ OJGFUFL MCZI ZGMJ NIUDL IB JIUUIN VCL ZUIOQDF QK ZGF HVUMJG JOUTFIC MZ UFEVMCFL V EVZZFU IB PICJMLFUVQDF LIOQZ NGFZGFU ZGF PGMDL NIODL JOURMRF ZI QFVU VCK CVEF VZ VDD MC NGMPG PVJF MZ MJ JIEFNGVZ EIUF ZGVC HUIQVQDF ZGVZ ZGFJF EFEIMUJ NIODL CFRFU GVRF VHHFVUFL IU MB ZGFK GVL ZGVZ QFMCT PIEHUMJFL NMZGMC V PIOHDF IB HVTFJ ZGFK NIODL GVRF HIJJFJJFL ZGF MCFJZMEVQDF EFUMZ IB QFMCT ZGF EIJZ PICPMJF VCL BVMZGBOD JHFPMEFC IB QMITUVHGK FYZVCZ MC ZGF DMZFUVZOUF IB VCK VTF IU PIOCZUK '\n"
     ]
    }
   ],
   "source": [
    "with open (\"encyrption.txt\", \"r\") as myfile:\n",
    "    message=myfile.read().replace('\\n', '')\n",
    "\n",
    "pairFreq = np.loadtxt('pairFreq.dat')\n",
    "\n",
    "pp.pprint(message)"
   ]
  },
  {
   "cell_type": "code",
   "execution_count": 3,
   "metadata": {
    "collapsed": false
   },
   "outputs": [
    {
     "data": {
      "text/plain": [
       "(27, 27)"
      ]
     },
     "execution_count": 3,
     "metadata": {},
     "output_type": "execute_result"
    }
   ],
   "source": [
    "pairFreq = np.loadtxt('pairFreq.dat')\n",
    "pairFreq.shape"
   ]
  },
  {
   "cell_type": "markdown",
   "metadata": {},
   "source": [
    "## Useful Functions:"
   ]
  },
  {
   "cell_type": "code",
   "execution_count": 4,
   "metadata": {
    "collapsed": true
   },
   "outputs": [],
   "source": [
    "def get_map():\n",
    "    alphabet = string.uppercase\n",
    "    key = ''.join(random.sample(alphabet,len(alphabet)))\n",
    "    myMap = dict(zip(alphabet, key))\n",
    "    myMap[' '] = ' '\n",
    "    return myMap\n",
    "\n",
    "def key_swap(myMap, swap_pick):\n",
    "    swapMap = dict(myMap)\n",
    "    swapMap[swap_pick[0]] = myMap[swap_pick[1]]\n",
    "    swapMap[swap_pick[1]] = myMap[swap_pick[0]]\n",
    "    return swapMap\n",
    "\n",
    "def rate_string(M, s):\n",
    "    lookup = string.uppercase + ' '\n",
    "    return np.sum(M[lookup.find(s[i])][lookup.find(s[i+1])] for i in range(len(s) - 1))\n",
    "\n",
    "def encrypt(s, myMap):\n",
    "    return ''.join([myMap[c] for c in list(s)])\n",
    "\n",
    "def MC_decrypt():\n",
    "    pass"
   ]
  },
  {
   "cell_type": "code",
   "execution_count": 5,
   "metadata": {
    "collapsed": false
   },
   "outputs": [
    {
     "name": "stdout",
     "output_type": "stream",
     "text": [
      "My initial random guess\n",
      "{' ': ' ',\n",
      " 'A': 'C',\n",
      " 'B': 'S',\n",
      " 'C': 'R',\n",
      " 'D': 'F',\n",
      " 'E': 'A',\n",
      " 'F': 'L',\n",
      " 'G': 'O',\n",
      " 'H': 'J',\n",
      " 'I': 'G',\n",
      " 'J': 'Z',\n",
      " 'K': 'T',\n",
      " 'L': 'M',\n",
      " 'M': 'U',\n",
      " 'N': 'I',\n",
      " 'O': 'H',\n",
      " 'P': 'W',\n",
      " 'Q': 'Q',\n",
      " 'R': 'V',\n",
      " 'S': 'N',\n",
      " 'T': 'D',\n",
      " 'U': 'X',\n",
      " 'V': 'P',\n",
      " 'W': 'B',\n",
      " 'X': 'E',\n",
      " 'Y': 'K',\n",
      " 'Z': 'Y'}\n"
     ]
    }
   ],
   "source": [
    "myMap = get_map()\n",
    "print \"My initial random guess\"\n",
    "pp.pprint(myMap)"
   ]
  },
  {
   "cell_type": "code",
   "execution_count": 17,
   "metadata": {
    "collapsed": false
   },
   "outputs": [
    {
     "name": "stdout",
     "output_type": "stream",
     "text": [
      "Total run time: 00:00.73s\n",
      "p = 41034258.0\n",
      "Acceptance Ratio = 6.9%\n",
      "FOR A LONG TIBE AFTER IT WAS USHERED INTO THIS WORLD OF SORROW AND TROUMLE MY THE PARISH SURGEON IT REBAINED A BATTER OF CONSIDERAMLE DOUMT WHETHER THE CHILD WOULD SURVIVE TO MEAR ANY NABE AT ALL IN WHICH CASE IT IS SOBEWHAT BORE THAN PROMAMLE THAT THESE BEBOIRS WOULD NEVER HAVE APPEARED OR IF THEY HAD THAT MEING COBPRISED WITHIN A COUPLE OF PAGES THEY WOULD HAVE POSSESSED THE INESTIBAMLE BERIT OF MEING THE BOST CONCISE AND FAITHFUL SPECIBEN OF MIOGRAPHY EKTANT IN THE LITERATURE OF ANY AGE OR COUNTRY \n"
     ]
    }
   ],
   "source": [
    "nsteps = 1000\n",
    "allSwaps = [''.join(i) for i in combinations(string.uppercase, 2)]\n",
    "\n",
    "oldS = message\n",
    "p = rate_string(pairFreq, oldS)\n",
    "newp = 0.0\n",
    "oldmap = dict(myMap)\n",
    "\n",
    "t = 0\n",
    "t0 = datetime.now()\n",
    "for i in range(nsteps):\n",
    "    mySwap = allSwaps[random.randint(0,len(allSwaps)-1)]\n",
    "    newmap = dict(key_swap(oldmap, mySwap))\n",
    "    newS = encrypt(oldS, newmap)\n",
    "    newp = rate_string(pairFreq, newS)\n",
    "    if(p < newp):\n",
    "        oldmap = dict(newmap)\n",
    "        p = newp\n",
    "        #oldS = newS\n",
    "        t += 1\n",
    "        \n",
    "t1 = datetime.now()\n",
    "tdiff = t1-t0\n",
    "\n",
    "print \"Total run time: \" + str(tdiff)[2:10] + \"s\"\n",
    "print \"p = \" + str(p)\n",
    "print \"Acceptance Ratio = \" + str(100*float(t)/float(nsteps)) + '%'\n",
    "print encrypt(oldS, oldmap)"
   ]
  },
  {
   "cell_type": "markdown",
   "metadata": {},
   "source": [
    "## Other Stuff"
   ]
  },
  {
   "cell_type": "code",
   "execution_count": 16,
   "metadata": {
    "collapsed": false
   },
   "outputs": [
    {
     "data": {
      "text/plain": [
       "<matplotlib.axes._subplots.AxesSubplot at 0x111509210>"
      ]
     },
     "execution_count": 16,
     "metadata": {},
     "output_type": "execute_result"
    },
    {
     "data": {
      "image/png": "[encoded data removed]",
      "text/plain": [
       "<matplotlib.figure.Figure at 0x111238b90>"
      ]
     },
     "metadata": {},
     "output_type": "display_data"
    }
   ],
   "source": [
    "nospaces = ''.join([x for x in message.split()])\n",
    "letter_counts = Counter(sorted(nospaces))\n",
    "df = pandas.DataFrame.from_dict(letter_counts, orient='index')\n",
    "df.plot(kind='bar')"
   ]
  }
 ],
 "metadata": {
  "kernelspec": {
   "display_name": "Python 2",
   "language": "python",
   "name": "python2"
  },
  "language_info": {
   "codemirror_mode": {
    "name": "ipython",
    "version": 2
   },
   "file_extension": ".py",
   "mimetype": "text/x-python",
   "name": "python",
   "nbconvert_exporter": "python",
   "pygments_lexer": "ipython2",
   "version": "2.7.10"
  }
 },
 "nbformat": 4,
 "nbformat_minor": 0
}
