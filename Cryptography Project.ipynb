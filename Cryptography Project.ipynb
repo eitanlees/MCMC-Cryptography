{
 "cells": [
  {
   "cell_type": "code",
   "execution_count": 1,
   "metadata": {
    "collapsed": true
   },
   "outputs": [],
   "source": [
    "%matplotlib inline\n",
    "import numpy as np\n",
    "import pprint as pp\n",
    "import random\n",
    "from datetime import datetime\n",
    "from itertools import combinations\n",
    "import string\n",
    "import pandas\n",
    "from collections import Counter"
   ]
  },
  {
   "cell_type": "markdown",
   "metadata": {},
   "source": [
    "Reading in the secret message"
   ]
  },
  {
   "cell_type": "code",
   "execution_count": 2,
   "metadata": {
    "collapsed": false
   },
   "outputs": [
    {
     "name": "stdout",
     "output_type": "stream",
     "text": [
      "'BIU V DICT ZMEF VBZFU MZ NVJ OJGFUFL MCZI ZGMJ NIUDL IB JIUUIN VCL ZUIOQDF QK ZGF HVUMJG JOUTFIC MZ UFEVMCFL V EVZZFU IB PICJMLFUVQDF LIOQZ NGFZGFU ZGF PGMDL NIODL JOURMRF ZI QFVU VCK CVEF VZ VDD MC NGMPG PVJF MZ MJ JIEFNGVZ EIUF ZGVC HUIQVQDF ZGVZ ZGFJF EFEIMUJ NIODL CFRFU GVRF VHHFVUFL IU MB ZGFK GVL ZGVZ QFMCT PIEHUMJFL NMZGMC V PIOHDF IB HVTFJ ZGFK NIODL GVRF HIJJFJJFL ZGF MCFJZMEVQDF EFUMZ IB QFMCT ZGF EIJZ PICPMJF VCL BVMZGBOD JHFPMEFC IB QMITUVHGK FYZVCZ MC ZGF DMZFUVZOUF IB VCK VTF IU PIOCZUK '\n"
     ]
    }
   ],
   "source": [
    "with open (\"encyrption.txt\", \"r\") as myfile:\n",
    "    message=myfile.read().replace('\\n', '')\n",
    "\n",
    "pairFreq = np.loadtxt('pairFreq.dat')\n",
    "\n",
    "pp.pprint(message)"
   ]
  },
  {
   "cell_type": "markdown",
   "metadata": {},
   "source": [
    "Reading in the pair frequence matrix"
   ]
  },
  {
   "cell_type": "code",
   "execution_count": 3,
   "metadata": {
    "collapsed": false
   },
   "outputs": [
    {
     "data": {
      "text/plain": [
       "(27, 27)"
      ]
     },
     "execution_count": 3,
     "metadata": {},
     "output_type": "execute_result"
    }
   ],
   "source": [
    "pairFreq = np.loadtxt('pairFreq.dat')\n",
    "pairFreq.shape"
   ]
  },
  {
   "cell_type": "markdown",
   "metadata": {},
   "source": [
    "## Useful Functions:"
   ]
  },
  {
   "cell_type": "code",
   "execution_count": 4,
   "metadata": {
    "collapsed": true
   },
   "outputs": [],
   "source": [
    "def get_map():\n",
    "    alphabet = string.uppercase\n",
    "    key = ''.join(random.sample(alphabet,len(alphabet)))\n",
    "    myMap = dict(zip(alphabet, key))\n",
    "    myMap[' '] = ' '\n",
    "    return myMap\n",
    "\n",
    "def key_swap(myMap, swap_pick):\n",
    "    swapMap = dict(myMap)\n",
    "    swapMap[swap_pick[0]] = myMap[swap_pick[1]]\n",
    "    swapMap[swap_pick[1]] = myMap[swap_pick[0]]\n",
    "    return swapMap\n",
    "\n",
    "def rate_string(M, s):\n",
    "    lookup = string.uppercase + ' '\n",
    "    return np.sum(M[lookup.find(s[i])][lookup.find(s[i+1])] for i in range(len(s) - 1))\n",
    "\n",
    "def encrypt(s, myMap):\n",
    "    return ''.join([myMap[c] for c in list(s)])\n",
    "\n",
    "def MC_decrypt(oldS, M, myMap, nsteps = 1000):\n",
    "    \n",
    "    allSwaps = [''.join(i) for i in combinations(string.uppercase, 2)]\n",
    "    p = rate_string(pairFreq, oldS)\n",
    "    newp = 0.0\n",
    "    oldmap = dict(myMap)\n",
    "    t = 0\n",
    "    t0 = datetime.now()\n",
    "    for i in range(nsteps):\n",
    "        mySwap = allSwaps[random.randint(0,len(allSwaps)-1)]\n",
    "        newmap = dict(key_swap(oldmap, mySwap))\n",
    "        newS = encrypt(oldS, newmap)\n",
    "        newp = rate_string(pairFreq, newS)\n",
    "        if(p < newp):\n",
    "            oldmap = dict(newmap)\n",
    "            p = newp\n",
    "            t += 1\n",
    "\n",
    "    t1 = datetime.now()\n",
    "    tdiff = t1-t0\n",
    "\n",
    "    #print \"Total run time: \" + str(tdiff)[2:10] + \"s\"\n",
    "    #print \"p = \" + str(p)\n",
    "    #print \"Acceptance Ratio = \" + str(100*float(t)/float(nsteps)) + '%'\n",
    "    return encrypt(oldS, oldmap)"
   ]
  },
  {
   "cell_type": "markdown",
   "metadata": {},
   "source": [
    "First lets pick a random mapping to get started"
   ]
  },
  {
   "cell_type": "code",
   "execution_count": 5,
   "metadata": {
    "collapsed": false
   },
   "outputs": [
    {
     "name": "stdout",
     "output_type": "stream",
     "text": [
      "{' ': ' ',\n",
      " 'A': 'L',\n",
      " 'B': 'R',\n",
      " 'C': 'W',\n",
      " 'D': 'A',\n",
      " 'E': 'V',\n",
      " 'F': 'P',\n",
      " 'G': 'G',\n",
      " 'H': 'K',\n",
      " 'I': 'N',\n",
      " 'J': 'Q',\n",
      " 'K': 'F',\n",
      " 'L': 'J',\n",
      " 'M': 'E',\n",
      " 'N': 'S',\n",
      " 'O': 'U',\n",
      " 'P': 'B',\n",
      " 'Q': 'T',\n",
      " 'R': 'O',\n",
      " 'S': 'M',\n",
      " 'T': 'Z',\n",
      " 'U': 'X',\n",
      " 'V': 'H',\n",
      " 'W': 'Y',\n",
      " 'X': 'I',\n",
      " 'Y': 'C',\n",
      " 'Z': 'D'}\n"
     ]
    }
   ],
   "source": [
    "myMap = get_map()\n",
    "pp.pprint(myMap)"
   ]
  },
  {
   "cell_type": "markdown",
   "metadata": {},
   "source": [
    "Now lets run our simulation to see what we get"
   ]
  },
  {
   "cell_type": "code",
   "execution_count": 6,
   "metadata": {
    "collapsed": false
   },
   "outputs": [
    {
     "data": {
      "text/plain": [
       "'FOR A NOMC TILE AFTER IT WAS USHERED IMTO THIS WORND OF SORROW AMD TROUPNE PY THE GARISH SURCEOM IT RELAIMED A LATTER OF BOMSIDERAPNE DOUPT WHETHER THE BHIND WOUND SURVIVE TO PEAR AMY MALE AT ANN IM WHIBH BASE IT IS SOLEWHAT LORE THAM GROPAPNE THAT THESE LELOIRS WOUND MEVER HAVE AGGEARED OR IF THEY HAD THAT PEIMC BOLGRISED WITHIM A BOUGNE OF GACES THEY WOUND HAVE GOSSESSED THE IMESTILAPNE LERIT OF PEIMC THE LOST BOMBISE AMD FAITHFUN SGEBILEM OF PIOCRAGHY EXTAMT IM THE NITERATURE OF AMY ACE OR BOUMTRY '"
      ]
     },
     "execution_count": 6,
     "metadata": {},
     "output_type": "execute_result"
    }
   ],
   "source": [
    "MC_decrypt(message, pairFreq, myMap)"
   ]
  },
  {
   "cell_type": "markdown",
   "metadata": {},
   "source": [
    "If we run the same simulation again we might get different output"
   ]
  },
  {
   "cell_type": "code",
   "execution_count": 7,
   "metadata": {
    "collapsed": false
   },
   "outputs": [
    {
     "data": {
      "text/plain": [
       "'FOR A LONV TIBE AFTER IT WAS USHERED INTO THIS WORLD OF SORROW AND TROUMLE MY THE GARISH SURVEON IT REBAINED A BATTER OF CONSIDERAMLE DOUMT WHETHER THE CHILD WOULD SURPIPE TO MEAR ANY NABE AT ALL IN WHICH CASE IT IS SOBEWHAT BORE THAN GROMAMLE THAT THESE BEBOIRS WOULD NEPER HAPE AGGEARED OR IF THEY HAD THAT MEINV COBGRISED WITHIN A COUGLE OF GAVES THEY WOULD HAPE GOSSESSED THE INESTIBAMLE BERIT OF MEINV THE BOST CONCISE AND FAITHFUL SGECIBEN OF MIOVRAGHY EKTANT IN THE LITERATURE OF ANY AVE OR COUNTRY '"
      ]
     },
     "execution_count": 7,
     "metadata": {},
     "output_type": "execute_result"
    }
   ],
   "source": [
    "MC_decrypt(message, pairFreq, myMap)"
   ]
  },
  {
   "cell_type": "markdown",
   "metadata": {},
   "source": [
    "We could try to increas the number of steps but we might still be stuck in a local maxium of `p`. Lets run the decryption multiple times to see if there is a most common output"
   ]
  },
  {
   "cell_type": "code",
   "execution_count": 8,
   "metadata": {
    "collapsed": false
   },
   "outputs": [],
   "source": [
    "multi_run = np.array([list(MC_decrypt(message, pairFreq, myMap)) for i in range(10)])"
   ]
  },
  {
   "cell_type": "markdown",
   "metadata": {},
   "source": [
    "we will need to transpose the output so that each row represents all of the outputs for a given charater of our message"
   ]
  },
  {
   "cell_type": "code",
   "execution_count": 9,
   "metadata": {
    "collapsed": false
   },
   "outputs": [],
   "source": [
    "letter_cols = np.transpose(multi_run)"
   ]
  },
  {
   "cell_type": "markdown",
   "metadata": {},
   "source": [
    "Now we can find the mode of each charater position to find the final expected output"
   ]
  },
  {
   "cell_type": "code",
   "execution_count": 10,
   "metadata": {
    "collapsed": false
   },
   "outputs": [
    {
     "data": {
      "text/plain": [
       "'FOR A LONG TIME AFTER IT WAS USHERED INTO THIS WORLD OF SORROW AND TROUBLE BY THE PARISH SURGEON IT REMAINED A MATTER OF CONSIDERABLE DOUBT WHETHER THE CHILD WOULD SURVIVE TO BEAR ANY NAME AT ALL IN WHICH CASE IT IS SOMEWHAT MORE THAN PROBABLE THAT THESE MEMOIRS WOULD NEVER HAVE APPEARED OR IF THEY HAD THAT BEING COMPRISED WITHIN A COUPLE OF PAGES THEY WOULD HAVE POSSESSED THE INESTIMABLE MERIT OF BEING THE MOST CONCISE AND FAITHFUL SPECIMEN OF BIOGRAPHY EXTANT IN THE LITERATURE OF ANY AGE OR COUNTRY '"
      ]
     },
     "execution_count": 10,
     "metadata": {},
     "output_type": "execute_result"
    }
   ],
   "source": [
    "''.join( c for c in [Counter(letter_cols[x]).most_common(1)[0][0] for x in range(len(letter_cols))])"
   ]
  },
  {
   "cell_type": "markdown",
   "metadata": {},
   "source": [
    "With this method we can avoid relaying on a single decryption that may have been stuck in a local maximum `p` value. The short relativly short single decryption time allows for multiple runs to be used to build the most common result."
   ]
  },
  {
   "cell_type": "markdown",
   "metadata": {},
   "source": [
    "## Other Stuff"
   ]
  },
  {
   "cell_type": "code",
   "execution_count": 11,
   "metadata": {
    "collapsed": false
   },
   "outputs": [
    {
     "data": {
      "text/plain": [
       "<matplotlib.axes._subplots.AxesSubplot at 0x11174cd90>"
      ]
     },
     "execution_count": 11,
     "metadata": {},
     "output_type": "execute_result"
    },
    {
     "data": {
      "image/png": "[encoded data removed]",
      "text/plain": [
       "<matplotlib.figure.Figure at 0x10f09ac10>"
      ]
     },
     "metadata": {},
     "output_type": "display_data"
    }
   ],
   "source": [
    "nospaces = ''.join([x for x in message.split()])\n",
    "letter_counts = Counter(sorted(nospaces))\n",
    "df = pandas.DataFrame.from_dict(letter_counts, orient='index')\n",
    "df.plot(kind='bar')"
   ]
  }
 ],
 "metadata": {
  "kernelspec": {
   "display_name": "Python 2",
   "language": "python",
   "name": "python2"
  },
  "language_info": {
   "codemirror_mode": {
    "name": "ipython",
    "version": 2
   },
   "file_extension": ".py",
   "mimetype": "text/x-python",
   "name": "python",
   "nbconvert_exporter": "python",
   "pygments_lexer": "ipython2",
   "version": "2.7.10"
  }
 },
 "nbformat": 4,
 "nbformat_minor": 0
}
